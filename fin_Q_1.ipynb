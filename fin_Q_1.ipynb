{
 "cells": [
  {
   "cell_type": "code",
   "execution_count": 1,
   "id": "bb62f1f3",
   "metadata": {},
   "outputs": [
    {
     "data": {
      "text/plain": [
       "0.8562272928143457"
      ]
     },
     "execution_count": 1,
     "metadata": {},
     "output_type": "execute_result"
    }
   ],
   "source": [
    "from scipy.optimize import fsolve\n",
    "from scipy.stats import norm\n",
    "from math import log, sqrt, exp\n",
    "\n",
    "# Given constants\n",
    "K = 95\n",
    "r = 0.05\n",
    "q = 0.03\n",
    "sigma = 0.3\n",
    "T = 1\n",
    "\n",
    "# BSM put option pricing function adjusted for 'a'\n",
    "def bsm_put_option(a):\n",
    "    S0 = a * 100  # Adjusted initial stock price\n",
    "    d1 = (log(S0 / K) + (r - q + 0.5 * sigma ** 2) * T) / (sigma * sqrt(T))\n",
    "    d2 = d1 - sigma * sqrt(T)\n",
    "    P = K * exp(-r * T) * norm.cdf(-d2) - S0 * exp(-q * T) * norm.cdf(-d1)\n",
    "    return P\n",
    "\n",
    "# Equation to solve: 100a + P(a) = 100, solving for 'a'\n",
    "def equation(a):\n",
    "    return 100 * a + bsm_put_option(a) - 100\n",
    "\n",
    "# Initial guess\n",
    "initial_guess = 0.5\n",
    "\n",
    "# Solve for 'a'\n",
    "a_solution = fsolve(equation, initial_guess)\n",
    "\n",
    "a_solution[0]\n"
   ]
  },
  {
   "cell_type": "code",
   "execution_count": 2,
   "id": "d484d28f",
   "metadata": {},
   "outputs": [
    {
     "data": {
      "text/plain": [
       "array([0.85622729])"
      ]
     },
     "execution_count": 2,
     "metadata": {},
     "output_type": "execute_result"
    }
   ],
   "source": [
    "a_solution"
   ]
  },
  {
   "cell_type": "code",
   "execution_count": 4,
   "id": "ec1efa8c",
   "metadata": {},
   "outputs": [],
   "source": [
    "def bsm_put_option_value(K,r,q,sigma,T,a):\n",
    "    S0 = a * 100  # Adjusted initial stock price\n",
    "    d1 = (log(S0 / K) + (r - q + 0.5 * sigma ** 2) * T) / (sigma * sqrt(T))\n",
    "    d2 = d1 - sigma * sqrt(T)\n",
    "    P = K * exp(-r * T) * norm.cdf(-d2) - S0 * exp(-q * T) * norm.cdf(-d1)\n",
    "    return P"
   ]
  },
  {
   "cell_type": "code",
   "execution_count": 5,
   "id": "0fc3f163",
   "metadata": {},
   "outputs": [],
   "source": [
    "P=bsm_put_option_value(K,r,q,sigma,T,a_solution[0])"
   ]
  },
  {
   "cell_type": "code",
   "execution_count": 6,
   "id": "2c939a2d",
   "metadata": {},
   "outputs": [
    {
     "data": {
      "text/plain": [
       "14.377270718565342"
      ]
     },
     "execution_count": 6,
     "metadata": {},
     "output_type": "execute_result"
    }
   ],
   "source": [
    "P"
   ]
  },
  {
   "cell_type": "code",
   "execution_count": 7,
   "id": "b68bf247",
   "metadata": {},
   "outputs": [],
   "source": [
    "def delta_put(K,r,q,sigma,T,a):\n",
    "    S0 = a * 100  # Adjusted initial stock price\n",
    "    d1 = (log(S0 / K) + (r - q + 0.5 * sigma ** 2) * T) / (sigma * sqrt(T))\n",
    "    delta=norm.cdf(d1)-1\n",
    "    return delta\n",
    "\n",
    "delta_put=delta_put(K,r,q,sigma,T,a_solution[0])"
   ]
  },
  {
   "cell_type": "code",
   "execution_count": 8,
   "id": "b1235c52",
   "metadata": {},
   "outputs": [
    {
     "data": {
      "text/plain": [
       "-0.5516193586183489"
      ]
     },
     "execution_count": 8,
     "metadata": {},
     "output_type": "execute_result"
    }
   ],
   "source": [
    "delta_put"
   ]
  },
  {
   "cell_type": "code",
   "execution_count": 16,
   "id": "1f2c5412",
   "metadata": {},
   "outputs": [
    {
     "data": {
      "text/plain": [
       "17.960000000000008"
      ]
     },
     "execution_count": 16,
     "metadata": {},
     "output_type": "execute_result"
    }
   ],
   "source": [
    "95-(90*.856)"
   ]
  },
  {
   "cell_type": "code",
   "execution_count": null,
   "id": "f77374bb",
   "metadata": {},
   "outputs": [],
   "source": []
  }
 ],
 "metadata": {
  "kernelspec": {
   "display_name": "Python 3 (ipykernel)",
   "language": "python",
   "name": "python3"
  },
  "language_info": {
   "codemirror_mode": {
    "name": "ipython",
    "version": 3
   },
   "file_extension": ".py",
   "mimetype": "text/x-python",
   "name": "python",
   "nbconvert_exporter": "python",
   "pygments_lexer": "ipython3",
   "version": "3.9.16"
  }
 },
 "nbformat": 4,
 "nbformat_minor": 5
}
