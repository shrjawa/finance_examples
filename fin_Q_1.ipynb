{
 "cells": [
  {
   "cell_type": "code",
   "execution_count": 1,
   "id": "86eb4988",
   "metadata": {},
   "outputs": [
    {
     "data": {
      "text/plain": [
       "'A fund manager has a portfolio that is currently worth 100 million, all invested in the index. The manager would like to\\nmake sure that the value of the portfolio does not end up more than 5% below the initial value after one year.\\nAt the same time, she wants to make profits if the index moves sufficiently high. To do this, the manager will leave \\nα×100 million in the index (α≤1), and invest (1−α)×100 million in replicating a put option with payoff K−αI(T), where \\nI(T) is the value in one year of investing 100 million in the index, and K is the strike price equal to 95% of \\n100 million. The risk-free annual rate is 5%. The dividend yield on the index is 3%. Dividends are continuously reinvested. \\nThe volatility of the index is 30% per year. Assume that the Black-Scholes model holds, and that one can do perfect \\nreplication by continuous rebalancing.\\n\\nWhat is the value of α for which the budget constraint 100α+P(α)=100 holds, where P(α) is the Black-Scholes put option \\nvalue in millions, written on the asset with initial value α×100?'"
      ]
     },
     "execution_count": 1,
     "metadata": {},
     "output_type": "execute_result"
    }
   ],
   "source": [
    "'''A fund manager has a portfolio that is currently worth 100 million, all invested in the index. The manager would like to\n",
    "make sure that the value of the portfolio does not end up more than 5% below the initial value after one year.\n",
    "At the same time, she wants to make profits if the index moves sufficiently high. To do this, the manager will leave \n",
    "α×100 million in the index (α≤1), and invest (1−α)×100 million in replicating a put option with payoff K−αI(T), where \n",
    "I(T) is the value in one year of investing 100 million in the index, and K is the strike price equal to 95% of \n",
    "100 million. The risk-free annual rate is 5%. The dividend yield on the index is 3%. Dividends are continuously reinvested. \n",
    "The volatility of the index is 30% per year. Assume that the Black-Scholes model holds, and that one can do perfect \n",
    "replication by continuous rebalancing.\n",
    "\n",
    "What is the value of α for which the budget constraint 100α+P(α)=100 holds, where P(α) is the Black-Scholes put option \n",
    "value in millions, written on the asset with initial value α×100?'''"
   ]
  },
  {
   "cell_type": "code",
   "execution_count": 2,
   "id": "a7a7e09f",
   "metadata": {},
   "outputs": [
    {
     "data": {
      "text/plain": [
       "0.8562272928143457"
      ]
     },
     "execution_count": 2,
     "metadata": {},
     "output_type": "execute_result"
    }
   ],
   "source": [
    "from scipy.optimize import fsolve\n",
    "from scipy.stats import norm\n",
    "from math import log, sqrt, exp\n",
    "\n",
    "# Given constants\n",
    "K = 95\n",
    "r = 0.05\n",
    "q = 0.03\n",
    "sigma = 0.3\n",
    "T = 1\n",
    "\n",
    "# BSM put option pricing function adjusted for 'a'\n",
    "def bsm_put_option(a):\n",
    "    S0 = a * 100  # Adjusted initial stock price\n",
    "    d1 = (log(S0 / K) + (r - q + 0.5 * sigma ** 2) * T) / (sigma * sqrt(T))\n",
    "    d2 = d1 - sigma * sqrt(T)\n",
    "    P = K * exp(-r * T) * norm.cdf(-d2) - S0 * exp(-q * T) * norm.cdf(-d1)\n",
    "    return P\n",
    "\n",
    "# Equation to solve: 100a + P(a) = 100, solving for 'a'\n",
    "def equation(a):\n",
    "    return 100 * a + bsm_put_option(a) - 100\n",
    "\n",
    "# Initial guess\n",
    "initial_guess = 0.5\n",
    "\n",
    "\n",
    "a_solution = fsolve(equation, initial_guess)\n",
    "\n",
    "a_solution[0]\n"
   ]
  },
  {
   "cell_type": "code",
   "execution_count": 3,
   "id": "389e9d1b",
   "metadata": {},
   "outputs": [],
   "source": [
    "#What amount of the index does the manager have to sell at initial time, to start replicating the put option?"
   ]
  },
  {
   "cell_type": "code",
   "execution_count": 4,
   "id": "bf7f7eba",
   "metadata": {},
   "outputs": [],
   "source": [
    "def delta_put(K,r,q,sigma,T,a):\n",
    "    S0 = a * 100  # Adjusted initial stock price\n",
    "    d1 = (log(S0 / K) + (r - q + 0.5 * sigma ** 2) * T) / (sigma * sqrt(T))\n",
    "    delta=norm.cdf(d1)-1\n",
    "    return delta\n",
    "\n",
    "delta_put=delta_put(K,r,q,sigma,T,a_solution[0])"
   ]
  },
  {
   "cell_type": "code",
   "execution_count": 5,
   "id": "4a7bf6b5",
   "metadata": {},
   "outputs": [
    {
     "data": {
      "text/plain": [
       "-0.5516193586183489"
      ]
     },
     "execution_count": 5,
     "metadata": {},
     "output_type": "execute_result"
    }
   ],
   "source": [
    "delta_put"
   ]
  }
 ],
 "metadata": {
  "kernelspec": {
   "display_name": "Python 3 (ipykernel)",
   "language": "python",
   "name": "python3"
  },
  "language_info": {
   "codemirror_mode": {
    "name": "ipython",
    "version": 3
   },
   "file_extension": ".py",
   "mimetype": "text/x-python",
   "name": "python",
   "nbconvert_exporter": "python",
   "pygments_lexer": "ipython3",
   "version": "3.9.16"
  }
 },
 "nbformat": 4,
 "nbformat_minor": 5
}
