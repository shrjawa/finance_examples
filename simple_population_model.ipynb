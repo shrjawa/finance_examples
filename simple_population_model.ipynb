import matplotlib.pyplot as plt
x=[]
x.append(0.1)
r=4
for i in range(1,100):
    x.append(r*x[i-1]*(1-x[i-1]))
plt.ylim(0,1)
plt.plot(x)
